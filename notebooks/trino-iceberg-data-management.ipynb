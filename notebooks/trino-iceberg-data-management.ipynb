{
 "cells": [
  {
   "cell_type": "markdown",
   "id": "6abf0869-f139-411a-9b34-51945c12cade",
   "metadata": {},
   "source": [
    "# Trino / Iceberg connector data management demo sample\n",
    "Copyright (C) 2021 OS-Climate\n",
    "\n",
    "This sample shows:\n",
    "* How Arrow and Parquet can be used to provide direct support for persisting dataFrames and metadata together in highly portable and performant files. This mechanism allows us to manage data ingestion and metadata in a transactional and integrated way.\n",
    "* Apache Iceberg ACID transaction and time travel capabilities used for data set versioning\n",
    "\n",
    "\n",
    "Permission is hereby granted, free of charge, to any person obtaining a copy of this software and associated documentation files (the \"Software\"), to deal in the Software without restriction, including without limitation the rights to use, copy, modify, merge, publish, distribute, sublicense, and/or sell copies of the Software, and to permit persons to whom the Software is furnished to do so, subject to the following conditions:\n",
    "\n",
    "The above copyright notice and this permission notice shall be included in all copies or substantial portions of the Software.\n",
    "\n",
    "THE SOFTWARE IS PROVIDED \"AS IS\", WITHOUT WARRANTY OF ANY KIND, EXPRESS OR IMPLIED, INCLUDING BUT NOT LIMITED TO THE WARRANTIES OF MERCHANTABILITY, FITNESS FOR A PARTICULAR PURPOSE AND NONINFRINGEMENT. IN NO EVENT SHALL THE AUTHORS OR COPYRIGHT HOLDERS BE LIABLE FOR ANY CLAIM, DAMAGES OR OTHER LIABILITY, WHETHER IN AN ACTION OF CONTRACT, TORT OR OTHERWISE, ARISING FROM, OUT OF OR IN CONNECTION WITH THE SOFTWARE OR THE USE OR OTHER DEALINGS IN THE SOFTWARE."
   ]
  },
  {
   "cell_type": "code",
   "execution_count": 1,
   "id": "d6875d86-4d96-4344-8051-76cad8b5aed0",
   "metadata": {},
   "outputs": [],
   "source": [
    "# pip install boto3\n",
    "# pip install python-dotenv\n",
    "# pip install trino\n",
    "# pip install pandas\n",
    "# pip install pyarrow"
   ]
  },
  {
   "cell_type": "code",
   "execution_count": 2,
   "id": "789567ff-268c-45e8-8f6f-e768ba62f327",
   "metadata": {},
   "outputs": [],
   "source": [
    "from dotenv import dotenv_values, load_dotenv\n",
    "import os\n",
    "import pathlib\n",
    "import boto3\n",
    "import pandas as pd\n",
    "import uuid\n",
    "import pyarrow as pa\n",
    "import pyarrow.parquet as pq\n",
    "import json\n",
    "import trino\n",
    "import io"
   ]
  },
  {
   "cell_type": "markdown",
   "id": "f7692120-2f4f-48be-9847-0f78a3359bc1",
   "metadata": {},
   "source": [
    "Load Environment Variables"
   ]
  },
  {
   "cell_type": "code",
   "execution_count": 3,
   "id": "a2ba14b4-0746-4ce6-9c0f-ff680221bdc9",
   "metadata": {},
   "outputs": [],
   "source": [
    "dotenv_dir = os.environ.get('CREDENTIAL_DOTENV_DIR', os.environ.get('PWD', '/opt/app-root/src'))\n",
    "dotenv_path = pathlib.Path(dotenv_dir) / 'credentials.env'\n",
    "if os.path.exists(dotenv_path):\n",
    "    load_dotenv(dotenv_path=dotenv_path,override=True)"
   ]
  },
  {
   "cell_type": "markdown",
   "id": "9cb78b98-863c-4626-adab-8c5d9dd6b094",
   "metadata": {},
   "source": [
    "Create a simple data frame for testing"
   ]
  },
  {
   "cell_type": "code",
   "execution_count": 4,
   "id": "7b35ac17-baab-463e-ad13-6be307efaa8c",
   "metadata": {},
   "outputs": [
    {
     "data": {
      "text/html": [
       "<div>\n",
       "<style scoped>\n",
       "    .dataframe tbody tr th:only-of-type {\n",
       "        vertical-align: middle;\n",
       "    }\n",
       "\n",
       "    .dataframe tbody tr th {\n",
       "        vertical-align: top;\n",
       "    }\n",
       "\n",
       "    .dataframe thead th {\n",
       "        text-align: right;\n",
       "    }\n",
       "</style>\n",
       "<table border=\"1\" class=\"dataframe\">\n",
       "  <thead>\n",
       "    <tr style=\"text-align: right;\">\n",
       "      <th></th>\n",
       "      <th>name</th>\n",
       "      <th>capacity_mw</th>\n",
       "      <th>uuid</th>\n",
       "    </tr>\n",
       "  </thead>\n",
       "  <tbody>\n",
       "    <tr>\n",
       "      <th>0</th>\n",
       "      <td>Albas</td>\n",
       "      <td>1.80000</td>\n",
       "      <td>56dc0472-318e-47a9-9b49-a51e111cd7c7</td>\n",
       "    </tr>\n",
       "    <tr>\n",
       "      <th>1</th>\n",
       "      <td>Albi</td>\n",
       "      <td>6.70448</td>\n",
       "      <td>56dc0472-318e-47a9-9b49-a51e111cd7c7</td>\n",
       "    </tr>\n",
       "    <tr>\n",
       "      <th>2</th>\n",
       "      <td>Albias</td>\n",
       "      <td>2.41000</td>\n",
       "      <td>56dc0472-318e-47a9-9b49-a51e111cd7c7</td>\n",
       "    </tr>\n",
       "    <tr>\n",
       "      <th>3</th>\n",
       "      <td>Allaire</td>\n",
       "      <td>8.20000</td>\n",
       "      <td>56dc0472-318e-47a9-9b49-a51e111cd7c7</td>\n",
       "    </tr>\n",
       "  </tbody>\n",
       "</table>\n",
       "</div>"
      ],
      "text/plain": [
       "      name  capacity_mw                                  uuid\n",
       "0    Albas      1.80000  56dc0472-318e-47a9-9b49-a51e111cd7c7\n",
       "1     Albi      6.70448  56dc0472-318e-47a9-9b49-a51e111cd7c7\n",
       "2   Albias      2.41000  56dc0472-318e-47a9-9b49-a51e111cd7c7\n",
       "3  Allaire      8.20000  56dc0472-318e-47a9-9b49-a51e111cd7c7"
      ]
     },
     "execution_count": 4,
     "metadata": {},
     "output_type": "execute_result"
    }
   ],
   "source": [
    "# initialise data of lists of powerplants and capacity\n",
    "data = {'name':['Albas', 'Albi', 'Albias', 'Allaire'],\n",
    "        'capacity_mw':[1.8, 6.70448, 2.41, 8.2]}\n",
    "# Create DataFrame\n",
    "df = pd.DataFrame(data)\n",
    "# Add a unique identifier to the data set\n",
    "uid = str(uuid.uuid4())\n",
    "df['uuid'] = uid\n",
    "# Print the output\n",
    "df"
   ]
  },
  {
   "cell_type": "markdown",
   "id": "4818183b-ba9c-44f5-8e34-02a82444b3ab",
   "metadata": {},
   "source": [
    "Convert the DataFrame to an Arrow table using PyArrow and inspect th table’s metadata property "
   ]
  },
  {
   "cell_type": "code",
   "execution_count": 5,
   "id": "5224ba80-d9b8-462e-a825-9e084851bfcc",
   "metadata": {},
   "outputs": [
    {
     "name": "stdout",
     "output_type": "stream",
     "text": [
      "{b'pandas': b'{\"index_columns\": [{\"kind\": \"range\", \"name\": null, \"start\": 0, \"stop\": 4, \"step\": 1}], \"column_indexes\": [{\"name\": null, \"field_name\": null, \"pandas_type\": \"unicode\", \"numpy_type\": \"object\", \"metadata\": {\"encoding\": \"UTF-8\"}}], \"columns\": [{\"name\": \"name\", \"field_name\": \"name\", \"pandas_type\": \"unicode\", \"numpy_type\": \"object\", \"metadata\": null}, {\"name\": \"capacity_mw\", \"field_name\": \"capacity_mw\", \"pandas_type\": \"float64\", \"numpy_type\": \"float64\", \"metadata\": null}, {\"name\": \"uuid\", \"field_name\": \"uuid\", \"pandas_type\": \"unicode\", \"numpy_type\": \"object\", \"metadata\": null}], \"creator\": {\"library\": \"pyarrow\", \"version\": \"5.0.0\"}, \"pandas_version\": \"1.3.3\"}'}\n"
     ]
    }
   ],
   "source": [
    "table = pa.Table.from_pandas(df)\n",
    "print(table.schema.metadata)"
   ]
  },
  {
   "cell_type": "markdown",
   "id": "3b94102c-8c8e-450a-b95e-ea5a368fe09f",
   "metadata": {},
   "source": [
    "Create custom meta data and key"
   ]
  },
  {
   "cell_type": "code",
   "execution_count": 6,
   "id": "d0dc3dea-79c1-4ed6-a21a-b89032981fcd",
   "metadata": {},
   "outputs": [],
   "source": [
    "custom_meta_content = {\n",
    "    'title': 'Global Power Plant Database',\n",
    "    'description': 'A comprehensive, global, open source database of power plants',\n",
    "    'version': '1.3.0',\n",
    "    'release_date': '20210602'\n",
    "}\n",
    "custom_meta_key = 'metaset'"
   ]
  },
  {
   "cell_type": "markdown",
   "id": "8178d132-7e42-4855-be76-2b6d3a2618dd",
   "metadata": {},
   "source": [
    "Construct the combined metadata by merging existing table metadata and custom metadata.\n",
    "Note: The metadata content must be JSON serialisable and encoded as bytes; the metadata key must also be encoded as bytes."
   ]
  },
  {
   "cell_type": "code",
   "execution_count": 7,
   "id": "95883da2-4380-4e28-bde6-42a5fe89341a",
   "metadata": {},
   "outputs": [],
   "source": [
    "custom_meta_json = json.dumps(custom_meta_content)\n",
    "existing_meta = table.schema.metadata\n",
    "combined_meta = {\n",
    "    custom_meta_key.encode(): custom_meta_json.encode(),\n",
    "    **existing_meta\n",
    "}"
   ]
  },
  {
   "cell_type": "markdown",
   "id": "74c14f09-78b9-45b7-b0ed-8782670bf291",
   "metadata": {},
   "source": [
    "Replace the original table metadata by the combined metadata in the Arrow table. This table now contains both the custom metadata and the Pandas metadata. "
   ]
  },
  {
   "cell_type": "code",
   "execution_count": 8,
   "id": "447fda86-776e-4c06-b162-842669719bff",
   "metadata": {},
   "outputs": [
    {
     "name": "stdout",
     "output_type": "stream",
     "text": [
      "{b'metaset': b'{\"title\": \"Global Power Plant Database\", \"description\": \"A comprehensive, global, open source database of power plants\", \"version\": \"1.3.0\", \"release_date\": \"20210602\"}', b'pandas': b'{\"index_columns\": [{\"kind\": \"range\", \"name\": null, \"start\": 0, \"stop\": 4, \"step\": 1}], \"column_indexes\": [{\"name\": null, \"field_name\": null, \"pandas_type\": \"unicode\", \"numpy_type\": \"object\", \"metadata\": {\"encoding\": \"UTF-8\"}}], \"columns\": [{\"name\": \"name\", \"field_name\": \"name\", \"pandas_type\": \"unicode\", \"numpy_type\": \"object\", \"metadata\": null}, {\"name\": \"capacity_mw\", \"field_name\": \"capacity_mw\", \"pandas_type\": \"float64\", \"numpy_type\": \"float64\", \"metadata\": null}, {\"name\": \"uuid\", \"field_name\": \"uuid\", \"pandas_type\": \"unicode\", \"numpy_type\": \"object\", \"metadata\": null}], \"creator\": {\"library\": \"pyarrow\", \"version\": \"5.0.0\"}, \"pandas_version\": \"1.3.3\"}'}\n"
     ]
    }
   ],
   "source": [
    "table = table.replace_schema_metadata(combined_meta)\n",
    "print(table.schema.metadata)"
   ]
  },
  {
   "cell_type": "markdown",
   "id": "b1110d19-1f2e-4973-ac0e-0c82a8c04999",
   "metadata": {},
   "source": [
    "Open an S3 client connection and save the dataframe as a parquet file so that dataFrame & metadata are now coupled together"
   ]
  },
  {
   "cell_type": "code",
   "execution_count": 9,
   "id": "d4fb03e9-d0a9-414d-8334-d8292372e9d0",
   "metadata": {},
   "outputs": [],
   "source": [
    "# Create an S3 client\n",
    "s3 = boto3.client(\n",
    "    service_name=\"s3\",\n",
    "    endpoint_url=os.environ['S3_DEV_ENDPOINT'],\n",
    "    aws_access_key_id=os.environ['S3_DEV_ACCESS_KEY'],\n",
    "    aws_secret_access_key=os.environ['S3_DEV_SECRET_KEY'],\n",
    ")"
   ]
  },
  {
   "cell_type": "code",
   "execution_count": 10,
   "id": "eb48d93b-4aac-4ec5-9866-5b891e2fc970",
   "metadata": {},
   "outputs": [],
   "source": [
    "tablename = 'gppd'\n",
    "pq.write_table(\n",
    "    table,\n",
    "    '/tmp/{tname}.parquet'.format(tname=tablename)\n",
    ")\n",
    "# df.to_parquet('/tmp/{tname}.parquet'.format(tname=tablename), index=False)\n",
    "s3.upload_file(\n",
    "    Bucket=os.environ['S3_DEV_BUCKET'],\n",
    "    Key='trino/wri/{tname}/{tname}.parquet'.format(tname=tablename),\n",
    "    Filename='/tmp/{tname}.parquet'.format(tname=tablename)\n",
    ")"
   ]
  },
  {
   "cell_type": "markdown",
   "id": "7076edd3-161c-4d13-8722-6902d43af75b",
   "metadata": {},
   "source": [
    "Restore data and metadata"
   ]
  },
  {
   "cell_type": "code",
   "execution_count": 11,
   "id": "e47a8647-3d68-47a5-b87d-48c10b123a4c",
   "metadata": {},
   "outputs": [],
   "source": [
    "# Read the Parquet file into an Arrow table\n",
    "obj = s3.get_object(\n",
    "    Bucket=os.environ['S3_DEV_BUCKET'], \n",
    "    Key='trino/wri/{tname}/{tname}.parquet'.format(tname=tablename)\n",
    ")\n",
    "restored_table = pq.read_table(io.BytesIO(obj['Body'].read()))\n",
    "# Call the table’s to_pandas conversion method to restore the dataframe\n",
    "# This operation uses the Pandas metadata to reconstruct the dataFrame under the hood\n",
    "restored_df = restored_table.to_pandas()\n",
    "# The custom metadata is accessible via the Arrow table’s metadata object\n",
    "# Use the custom metadata key used earlier (taking care to once again encode the key as bytes)\n",
    "restored_meta_json = restored_table.schema.metadata[custom_meta_key.encode()]\n",
    "# Deserialize the json string to get back metadata\n",
    "restored_meta = json.loads(restored_meta_json)"
   ]
  },
  {
   "cell_type": "code",
   "execution_count": 12,
   "id": "2f1fe28f-ea5b-4330-815f-75178f78a053",
   "metadata": {},
   "outputs": [
    {
     "data": {
      "text/html": [
       "<div>\n",
       "<style scoped>\n",
       "    .dataframe tbody tr th:only-of-type {\n",
       "        vertical-align: middle;\n",
       "    }\n",
       "\n",
       "    .dataframe tbody tr th {\n",
       "        vertical-align: top;\n",
       "    }\n",
       "\n",
       "    .dataframe thead th {\n",
       "        text-align: right;\n",
       "    }\n",
       "</style>\n",
       "<table border=\"1\" class=\"dataframe\">\n",
       "  <thead>\n",
       "    <tr style=\"text-align: right;\">\n",
       "      <th></th>\n",
       "      <th>name</th>\n",
       "      <th>capacity_mw</th>\n",
       "      <th>uuid</th>\n",
       "    </tr>\n",
       "  </thead>\n",
       "  <tbody>\n",
       "    <tr>\n",
       "      <th>0</th>\n",
       "      <td>Albas</td>\n",
       "      <td>1.80000</td>\n",
       "      <td>56dc0472-318e-47a9-9b49-a51e111cd7c7</td>\n",
       "    </tr>\n",
       "    <tr>\n",
       "      <th>1</th>\n",
       "      <td>Albi</td>\n",
       "      <td>6.70448</td>\n",
       "      <td>56dc0472-318e-47a9-9b49-a51e111cd7c7</td>\n",
       "    </tr>\n",
       "    <tr>\n",
       "      <th>2</th>\n",
       "      <td>Albias</td>\n",
       "      <td>2.41000</td>\n",
       "      <td>56dc0472-318e-47a9-9b49-a51e111cd7c7</td>\n",
       "    </tr>\n",
       "    <tr>\n",
       "      <th>3</th>\n",
       "      <td>Allaire</td>\n",
       "      <td>8.20000</td>\n",
       "      <td>56dc0472-318e-47a9-9b49-a51e111cd7c7</td>\n",
       "    </tr>\n",
       "  </tbody>\n",
       "</table>\n",
       "</div>"
      ],
      "text/plain": [
       "      name  capacity_mw                                  uuid\n",
       "0    Albas      1.80000  56dc0472-318e-47a9-9b49-a51e111cd7c7\n",
       "1     Albi      6.70448  56dc0472-318e-47a9-9b49-a51e111cd7c7\n",
       "2   Albias      2.41000  56dc0472-318e-47a9-9b49-a51e111cd7c7\n",
       "3  Allaire      8.20000  56dc0472-318e-47a9-9b49-a51e111cd7c7"
      ]
     },
     "execution_count": 12,
     "metadata": {},
     "output_type": "execute_result"
    }
   ],
   "source": [
    "restored_df"
   ]
  },
  {
   "cell_type": "code",
   "execution_count": 13,
   "id": "e8ca804b-938e-4e0c-ab2e-05e1dfb89b1c",
   "metadata": {},
   "outputs": [
    {
     "data": {
      "text/plain": [
       "{'title': 'Global Power Plant Database',\n",
       " 'description': 'A comprehensive, global, open source database of power plants',\n",
       " 'version': '1.3.0',\n",
       " 'release_date': '20210602'}"
      ]
     },
     "execution_count": 13,
     "metadata": {},
     "output_type": "execute_result"
    }
   ],
   "source": [
    "restored_meta"
   ]
  },
  {
   "cell_type": "markdown",
   "id": "15efe080-b4eb-4713-8fd0-7f1d2e1fd966",
   "metadata": {},
   "source": [
    "Open a Trino connection using JWT for authentication"
   ]
  },
  {
   "cell_type": "code",
   "execution_count": 14,
   "id": "790b5e63-8d67-4314-844c-ae42266070b3",
   "metadata": {},
   "outputs": [],
   "source": [
    "conn = trino.dbapi.connect(\n",
    "    host=os.environ['TRINO_HOST'],\n",
    "    port=int(os.environ['TRINO_PORT']),\n",
    "    user=os.environ['TRINO_USER'],\n",
    "    http_scheme='https',\n",
    "    auth=trino.auth.JWTAuthentication(os.environ['TRINO_PASSWD']),\n",
    "    verify=True,\n",
    ")\n",
    "cur = conn.cursor()"
   ]
  },
  {
   "cell_type": "code",
   "execution_count": 15,
   "id": "bb96687d-74a7-46d8-9944-b63fddf11bd1",
   "metadata": {},
   "outputs": [
    {
     "data": {
      "text/plain": [
       "[['aicoe_osc_demo'],\n",
       " ['company_data'],\n",
       " ['default'],\n",
       " ['defaultschema1'],\n",
       " ['demo'],\n",
       " ['eje'],\n",
       " ['epacems'],\n",
       " ['epacems_y95_al'],\n",
       " ['information_schema'],\n",
       " ['metastore'],\n",
       " ['pudl'],\n",
       " ['rmi_utility_transition_hub'],\n",
       " ['team1'],\n",
       " ['team2'],\n",
       " ['testaccessschema1'],\n",
       " ['urgentem'],\n",
       " ['wri'],\n",
       " ['wri_gppd']]"
      ]
     },
     "execution_count": 15,
     "metadata": {},
     "output_type": "execute_result"
    }
   ],
   "source": [
    "# Show available schemas to ensure trino connection is set correctly\n",
    "cur.execute('show schemas in osc_datacommons_dev')\n",
    "cur.fetchall()"
   ]
  },
  {
   "cell_type": "markdown",
   "id": "36fb839e-576b-4950-bb01-74602549aa9f",
   "metadata": {},
   "source": [
    "Build a map and define schema mapping logic for parquet to sql"
   ]
  },
  {
   "cell_type": "code",
   "execution_count": 16,
   "id": "51c51f04-f488-4dec-8a13-e4b3bfb433b0",
   "metadata": {},
   "outputs": [],
   "source": [
    "_p2smap = {\n",
    "    'object': 'varchar',\n",
    "    'string': 'varchar',\n",
    "    'float32': 'real',\n",
    "    'Float32': 'real',\n",
    "    'float64': 'double',\n",
    "    'Float64': 'double',\n",
    "    'int32': 'integer',\n",
    "    'Int32': 'integer',\n",
    "    'int64': 'bigint',\n",
    "    'Int64': 'bigint',\n",
    "    'category': 'varchar',\n",
    "    'datetime64[ns, UTC]': 'timestamp',\n",
    "    'datetime64[ns]': 'timestamp'\n",
    "}\n",
    "\n",
    "def pandas_type_to_sql(pt):\n",
    "    st = _p2smap.get(pt)\n",
    "    if st is not None:\n",
    "        return st\n",
    "    raise ValueError(\"unexpected pandas column type '{pt}'\".format(pt=pt))\n",
    "\n",
    "# add ability to specify optional dict for specific fields?\n",
    "# if column name is present, use specified value?\n",
    "def generate_table_schema_pairs(df):\n",
    "    ptypes = [str(e) for e in df.dtypes.to_list()]\n",
    "    stypes = [pandas_type_to_sql(e) for e in ptypes]\n",
    "    pz = list(zip(df.columns.to_list(), stypes))\n",
    "    return \",\\n\".join([\"    {n} {t}\".format(n=e[0],t=e[1]) for e in pz])"
   ]
  },
  {
   "cell_type": "markdown",
   "id": "2c0e2635-ac17-4dda-bc41-a5a18c61c44d",
   "metadata": {},
   "source": [
    "Create ingestion schema based on source data name and remove old tables if necessary"
   ]
  },
  {
   "cell_type": "code",
   "execution_count": 17,
   "id": "4aa21228-ec3d-4506-820a-bb071b56fc07",
   "metadata": {},
   "outputs": [
    {
     "data": {
      "text/plain": [
       "[[True]]"
      ]
     },
     "execution_count": 17,
     "metadata": {},
     "output_type": "execute_result"
    }
   ],
   "source": [
    "cur.execute('create schema if not exists osc_datacommons_dev.wri')\n",
    "cur.fetchall()"
   ]
  },
  {
   "cell_type": "code",
   "execution_count": 18,
   "id": "06e809a5-85eb-4879-86ed-1b1c01e4104b",
   "metadata": {},
   "outputs": [
    {
     "data": {
      "text/plain": [
       "[[True]]"
      ]
     },
     "execution_count": 18,
     "metadata": {},
     "output_type": "execute_result"
    }
   ],
   "source": [
    "cur.execute('drop table if exists osc_datacommons_dev.wri.' + tablename)\n",
    "cur.fetchall()"
   ]
  },
  {
   "cell_type": "code",
   "execution_count": 19,
   "id": "726c7d8e-45f9-48e7-a0db-66b103d5b25f",
   "metadata": {},
   "outputs": [
    {
     "name": "stdout",
     "output_type": "stream",
     "text": [
      "create table if not exists osc_datacommons_dev.wri.gppd(\n",
      "    name varchar,\n",
      "    capacity_mw double,\n",
      "    uuid varchar\n",
      ") with (\n",
      "    format = 'parquet',\n",
      "    external_location = 's3a://ocp-odh-os-demo-s3/trino/wri/gppd/'\n",
      ")\n"
     ]
    },
    {
     "data": {
      "text/plain": [
       "[[True]]"
      ]
     },
     "execution_count": 19,
     "metadata": {},
     "output_type": "execute_result"
    }
   ],
   "source": [
    "schema = generate_table_schema_pairs(df)\n",
    "tabledef = \"\"\"create table if not exists osc_datacommons_dev.wri.{tname}(\n",
    "{schema}\n",
    ") with (\n",
    "    format = 'parquet',\n",
    "    external_location = 's3a://{bucket}/trino/wri/{tname}/'\n",
    ")\"\"\".format(schema=schema,bucket=os.environ['S3_DEV_BUCKET'],tname=tablename)\n",
    "print(tabledef)\n",
    "\n",
    "# tables created externally may not show up immediately in cloud-beaver\n",
    "cur.execute(tabledef)\n",
    "cur.fetchall()"
   ]
  },
  {
   "cell_type": "code",
   "execution_count": 27,
   "id": "50b9a8b7-ebcf-4f5c-b162-d5a018b18901",
   "metadata": {},
   "outputs": [
    {
     "data": {
      "text/html": [
       "<div>\n",
       "<style scoped>\n",
       "    .dataframe tbody tr th:only-of-type {\n",
       "        vertical-align: middle;\n",
       "    }\n",
       "\n",
       "    .dataframe tbody tr th {\n",
       "        vertical-align: top;\n",
       "    }\n",
       "\n",
       "    .dataframe thead th {\n",
       "        text-align: right;\n",
       "    }\n",
       "</style>\n",
       "<table border=\"1\" class=\"dataframe\">\n",
       "  <thead>\n",
       "    <tr style=\"text-align: right;\">\n",
       "      <th></th>\n",
       "      <th>catalog</th>\n",
       "      <th>schema</th>\n",
       "      <th>table</th>\n",
       "      <th>uuid</th>\n",
       "      <th>metadata</th>\n",
       "    </tr>\n",
       "  </thead>\n",
       "  <tbody>\n",
       "    <tr>\n",
       "      <th>description</th>\n",
       "      <td>osc_datacommons_dev</td>\n",
       "      <td>wri</td>\n",
       "      <td>gppd</td>\n",
       "      <td>56dc0472-318e-47a9-9b49-a51e111cd7c7</td>\n",
       "      <td>A comprehensive, global, open source database ...</td>\n",
       "    </tr>\n",
       "    <tr>\n",
       "      <th>release_date</th>\n",
       "      <td>osc_datacommons_dev</td>\n",
       "      <td>wri</td>\n",
       "      <td>gppd</td>\n",
       "      <td>56dc0472-318e-47a9-9b49-a51e111cd7c7</td>\n",
       "      <td>20210602</td>\n",
       "    </tr>\n",
       "    <tr>\n",
       "      <th>title</th>\n",
       "      <td>osc_datacommons_dev</td>\n",
       "      <td>wri</td>\n",
       "      <td>gppd</td>\n",
       "      <td>56dc0472-318e-47a9-9b49-a51e111cd7c7</td>\n",
       "      <td>Global Power Plant Database</td>\n",
       "    </tr>\n",
       "    <tr>\n",
       "      <th>version</th>\n",
       "      <td>osc_datacommons_dev</td>\n",
       "      <td>wri</td>\n",
       "      <td>gppd</td>\n",
       "      <td>56dc0472-318e-47a9-9b49-a51e111cd7c7</td>\n",
       "      <td>1.3.0</td>\n",
       "    </tr>\n",
       "  </tbody>\n",
       "</table>\n",
       "</div>"
      ],
      "text/plain": [
       "                          catalog schema table  \\\n",
       "description   osc_datacommons_dev    wri  gppd   \n",
       "release_date  osc_datacommons_dev    wri  gppd   \n",
       "title         osc_datacommons_dev    wri  gppd   \n",
       "version       osc_datacommons_dev    wri  gppd   \n",
       "\n",
       "                                              uuid  \\\n",
       "description   56dc0472-318e-47a9-9b49-a51e111cd7c7   \n",
       "release_date  56dc0472-318e-47a9-9b49-a51e111cd7c7   \n",
       "title         56dc0472-318e-47a9-9b49-a51e111cd7c7   \n",
       "version       56dc0472-318e-47a9-9b49-a51e111cd7c7   \n",
       "\n",
       "                                                       metadata  \n",
       "description   A comprehensive, global, open source database ...  \n",
       "release_date                                           20210602  \n",
       "title                               Global Power Plant Database  \n",
       "version                                                   1.3.0  "
      ]
     },
     "execution_count": 27,
     "metadata": {},
     "output_type": "execute_result"
    }
   ],
   "source": [
    "# Create metastore structure\n",
    "metastore = {'catalog':'osc_datacommons_dev',\n",
    "             'schema':'wri',\n",
    "             'table':tablename,\n",
    "             'uuid':uid,\n",
    "             'metadata':custom_meta_content}\n",
    "# Create DataFrame\n",
    "df_meta = pd.DataFrame(metastore)\n",
    "# Print the output\n",
    "df_meta"
   ]
  },
  {
   "cell_type": "code",
   "execution_count": null,
   "id": "0a306498-7442-4138-b560-7b01f2b85820",
   "metadata": {},
   "outputs": [],
   "source": []
  },
  {
   "cell_type": "code",
   "execution_count": null,
   "id": "2ab44cbd-9472-4651-a1fd-fc87824c4122",
   "metadata": {},
   "outputs": [],
   "source": []
  },
  {
   "cell_type": "code",
   "execution_count": null,
   "id": "01ef31ba-66a1-436d-9e40-73d5b5663241",
   "metadata": {},
   "outputs": [],
   "source": []
  },
  {
   "cell_type": "code",
   "execution_count": null,
   "id": "8acb4b35-5dc0-4d10-b650-20dbc197d746",
   "metadata": {},
   "outputs": [],
   "source": []
  },
  {
   "cell_type": "code",
   "execution_count": null,
   "id": "cc1964ef-40f5-4285-b65d-c02ba2aa053a",
   "metadata": {},
   "outputs": [],
   "source": []
  }
 ],
 "metadata": {
  "kernelspec": {
   "display_name": "Python 3",
   "language": "python",
   "name": "python3"
  },
  "language_info": {
   "codemirror_mode": {
    "name": "ipython",
    "version": 3
   },
   "file_extension": ".py",
   "mimetype": "text/x-python",
   "name": "python",
   "nbconvert_exporter": "python",
   "pygments_lexer": "ipython3",
   "version": "3.8.3"
  }
 },
 "nbformat": 4,
 "nbformat_minor": 5
}
