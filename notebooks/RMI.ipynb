{
 "cells": [
  {
   "cell_type": "markdown",
   "id": "41652f59-1798-4431-90dc-592dd4f64a7f",
   "metadata": {},
   "source": [
    "## Load RMI Utilities Transition Hub Data (from https://utilitytransitionhub.rmi.org/data-download/ for Data Vault Prototype)\n",
    "\n",
    "Copyright (C) 2021 OS-Climate\n",
    "\n",
    "Permission is hereby granted, free of charge, to any person obtaining a copy of this software and associated documentation files (the \"Software\"), to deal in the Software without restriction, including without limitation the rights to use, copy, modify, merge, publish, distribute, sublicense, and/or sell copies of the Software, and to permit persons to whom the Software is furnished to do so, subject to the following conditions:\n",
    "\n",
    "The above copyright notice and this permission notice shall be included in all copies or substantial portions of the Software.\n",
    "\n",
    "THE SOFTWARE IS PROVIDED \"AS IS\", WITHOUT WARRANTY OF ANY KIND, EXPRESS OR IMPLIED, INCLUDING BUT NOT LIMITED TO THE WARRANTIES OF MERCHANTABILITY, FITNESS FOR A PARTICULAR PURPOSE AND NONINFRINGEMENT. IN NO EVENT SHALL THE AUTHORS OR COPYRIGHT HOLDERS BE LIABLE FOR ANY CLAIM, DAMAGES OR OTHER LIABILITY, WHETHER IN AN ACTION OF CONTRACT, TORT OR OTHERWISE, ARISING FROM, OUT OF OR IN CONNECTION WITH THE SOFTWARE OR THE USE OR OTHER DEALINGS IN THE SOFTWARE.\n",
    "\n",
    "### We have a local copy rooted in the S3_BUCKET : RMI/data_download/*\n",
    "\n",
    "### The next step is to enrich with OS-C Factor metadata\n",
    "\n",
    "Contributed by Michael Tiemann (Github: MichaelTiemannOSC)"
   ]
  },
  {
   "cell_type": "markdown",
   "id": "92377eb7-1d1b-4662-ac08-99877153832b",
   "metadata": {},
   "source": [
    "Load Credentials"
   ]
  },
  {
   "cell_type": "code",
   "execution_count": null,
   "id": "ac18bf3b-80d7-4b25-8ae4-9273709a0789",
   "metadata": {},
   "outputs": [],
   "source": [
    "# From the AWS Account page, copy the export scripts from the appropriate role using the \"Command Line or Programmatic Access\" link\n",
    "# Paste the copied text into ~/credentials.env\n",
    "\n",
    "from dotenv import dotenv_values, load_dotenv\n",
    "import os\n",
    "import pathlib\n",
    "\n",
    "dotenv_dir = os.environ.get('CREDENTIAL_DOTENV_DIR', os.environ.get('PWD', '/opt/app-root/src'))\n",
    "dotenv_path = pathlib.Path(dotenv_dir) / 'credentials.env'\n",
    "if os.path.exists(dotenv_path):\n",
    "    load_dotenv(dotenv_path=dotenv_path,override=True)"
   ]
  },
  {
   "cell_type": "markdown",
   "id": "c5877739-a3c7-4f6c-ae92-b2288f511b41",
   "metadata": {},
   "source": [
    "Create an S3 resource for the bucket holding source data"
   ]
  },
  {
   "cell_type": "code",
   "execution_count": null,
   "id": "3207a36b-b6ec-4694-841b-160a13a8a1cf",
   "metadata": {},
   "outputs": [],
   "source": [
    "import boto3\n",
    "s3_resource = boto3.resource(\n",
    "    service_name=\"s3\",\n",
    "    endpoint_url=os.environ['S3_LANDING_ENDPOINT'],\n",
    "    aws_access_key_id=os.environ['S3_LANDING_ACCESS_KEY'],\n",
    "    aws_secret_access_key=os.environ['S3_LANDING_SECRET_KEY'],\n",
    ")\n",
    "bucket = s3_resource.Bucket(os.environ['S3_LANDING_BUCKET'])\n",
    "\n",
    "rmi_folder = bucket.Object('RMI/data_download')\n",
    "\n",
    "\n",
    "files = []\n",
    "for file in bucket.objects.filter(Prefix='RMI/data_download'):\n",
    "    if file.key.endswith('csv'):\n",
    "        files.append(file.key)\n",
    "files[0:]"
   ]
  },
  {
   "cell_type": "markdown",
   "id": "d0bee29e-72ec-4fbc-b400-daa946277b67",
   "metadata": {},
   "source": [
    "Build a map and define schema mapping logic for parquet to sql"
   ]
  },
  {
   "cell_type": "code",
   "execution_count": null,
   "id": "22285cd0-a545-4a3b-823b-27ff40555080",
   "metadata": {},
   "outputs": [],
   "source": [
    "_p2smap = {\n",
    "    'object': 'varchar',\n",
    "    'string': 'varchar',\n",
    "    'float32': 'real',\n",
    "    'Float32': 'real',\n",
    "    'float64': 'double',\n",
    "    'Float64': 'double',\n",
    "    'int32': 'integer',\n",
    "    'Int32': 'integer',\n",
    "    'int64': 'bigint',\n",
    "    'Int64': 'bigint',\n",
    "    'category': 'varchar',\n",
    "    'datetime64[ns, UTC]': 'timestamp',\n",
    "    'datetime64[ns]': 'timestamp'\n",
    "}\n",
    "\n",
    "def pandas_type_to_sql(pt):\n",
    "    st = _p2smap.get(pt)\n",
    "    if st is not None:\n",
    "        return st\n",
    "    raise ValueError(\"unexpected pandas column type '{pt}'\".format(pt=pt))\n",
    "\n",
    "# add ability to specify optional dict for specific fields?\n",
    "# if column name is present, use specified value?\n",
    "def generate_table_schema_pairs(df):\n",
    "    ptypes = [str(e) for e in df.dtypes.to_list()]\n",
    "    stypes = [pandas_type_to_sql(e) for e in ptypes]\n",
    "    pz = list(zip(df.columns.to_list(), stypes))\n",
    "    return \",\\n\".join([\"    {n} {t}\".format(n=e[0],t=e[1]) for e in pz])"
   ]
  },
  {
   "cell_type": "code",
   "execution_count": null,
   "id": "5c700b7b-e370-4fe0-95b9-3c8104ce822a",
   "metadata": {},
   "outputs": [],
   "source": [
    "import trino\n",
    "\n",
    "conn = trino.dbapi.connect(\n",
    "    host=os.environ['TRINO_HOST'],\n",
    "    port=int(os.environ['TRINO_PORT']),\n",
    "    user=os.environ['TRINO_USER'],\n",
    "    http_scheme='https',\n",
    "    auth=trino.auth.JWTAuthentication(os.environ['TRINO_PASSWD']),\n",
    "    verify=True,\n",
    ")\n",
    "cur = conn.cursor()"
   ]
  },
  {
   "cell_type": "code",
   "execution_count": null,
   "id": "f0c831c4-d3ad-4a28-8127-de5e4047e775",
   "metadata": {},
   "outputs": [],
   "source": [
    "# Show available schemas to ensure trino connection is set correctly\n",
    "cur.execute('show schemas in osc_datacommons_dev')\n",
    "cur.fetchall()"
   ]
  },
  {
   "cell_type": "code",
   "execution_count": null,
   "id": "effb6763-7b85-43ff-b073-97f2a9ac6ec2",
   "metadata": {},
   "outputs": [],
   "source": [
    "schemaname = 'rmi'\n",
    "cur.execute('create schema if not exists osc_datacommons_dev.' + schemaname)\n",
    "cur.fetchall()"
   ]
  },
  {
   "cell_type": "markdown",
   "id": "df7eab8e-10be-4fa1-b9a2-05006bbaa9ac",
   "metadata": {},
   "source": [
    "Load RMI data file using pandas *read_csv* and appropriate dtype dictionaries"
   ]
  },
  {
   "cell_type": "code",
   "execution_count": null,
   "id": "ef0800f2-5c35-4f06-90da-b8b00d597ac5",
   "metadata": {},
   "outputs": [],
   "source": [
    "import pandas as pd\n",
    "\n",
    "dtype_dict = {\n",
    "    'assets_earnings_investments':\n",
    "        {'respondent_id':'int32', 'year':'int32',\n",
    "         'asset_value':'float64', 'earnings_value':'float64', 'investment_value':'float64'},\n",
    "    'customers_sales':\n",
    "        {'respondent_id':'int32', 'year':'int32',\n",
    "         'sales':'float64', 'revenues':'float64'},\n",
    "    'debt_equity_returns':\n",
    "        {'respondent_id':'int32', 'year':'int32',\n",
    "         'rate_base_actual':'float64', 'equity_actual':'float64', 'debt_actual':'float64', \n",
    "         'equity_ratio_actual':'float64', 'returns_actual':'float64', 'earnings_actual':'float64',\n",
    "         'interest_actual':'float64', 'fed_tax_expense_actual':'float64',\n",
    "         'pre_tax_net_income_actual':'float64', 'ROR_actual':'float64', 'ROE_actual':'float64', \n",
    "         'interest_rate':'float64',\n",
    "         'effective_fed_tax_rate':'float64', 'equity_authorized':'float64', 'debt_authorized':'float64',\n",
    "         'returns_authorized':'float64', 'earnings_authorized':'float64', 'interest_authorized':'float64', \n",
    "         'interest_rate_authorized':'float64'},\n",
    "    'emissions_targets':\n",
    "        {'year':'int32',\n",
    "         'CO2_historical':'float64', 'CO2_target':'float64', 'CO2_target_all_years':'float64', 'CO2_1point5C':'float64',\n",
    "         'generation_historical':'float64', 'generation_projected':'float64', 'generation_1point5C':'float64',\n",
    "         'CO2_intensity_historical':'float64', 'CO2_intensity_target':'float64', 'CO2_intensity_target_all_years':'float64', 'CO2_intensity_1point5C':'float64'},\n",
    "    'expenditure_bills_burden':\n",
    "        {'respondent_id':'int32', 'year':'int32',\n",
    "         'expenditure':'float64', 'bill':'float64', 'burden':'float64'},\n",
    "    'housing_units_income':\n",
    "        {'respondent_id':'int32', 'year':'int32',\n",
    "         'housing_units':'float64', 'income':'float64'},\n",
    "    'net_plant_balance':\n",
    "        {'respondent_id':'int32', 'year':'int32',\n",
    "         'original_cost':'float64', 'accum_depr':'float64', 'net_plant_balance':'float64',\n",
    "         'ARC':'float64', 'ARC_accum_depr':'float64', 'net_ARC':'float64'},\n",
    "    'operations_emissions_by_fuel':\n",
    "        {'respondent_id':'int32', 'year':'int32', 'latitude':'float64', 'longitude':'float64',\n",
    "         'capacity':'float64', 'year_end_capacity':'float64', 'generation':'float64', 'potential_generation':'float64'},\n",
    "    'operations_emissions_by_tech':\n",
    "        {'respondent_id':'int32', 'year':'int32', 'latitude':'float64', 'longitude':'float64',\n",
    "         'capacity':'float64', 'year_end_capacity':'float64', 'generation':'float64', 'potential_generation':'float64'},\n",
    "    'revenue_by_tech':\n",
    "        {'respondent_id':'int32', 'year':'int32', 'latitude':'float64', 'longitude':'float64',\n",
    "         'capacity':'float64', 'year_end_capacity':'float64', 'generation':'float64', 'potential_generation':'float64'},\n",
    "    'state_targets': str,\n",
    "    'utility_information': {'respondent_id':'int32'},\n",
    "    'utility_state_map': {'respondent_id':'int32'}\n",
    "}\n",
    "\n",
    "# Create an S3 client\n",
    "s3 = boto3.client(\n",
    "    service_name=\"s3\",\n",
    "    endpoint_url=os.environ['S3_DEV_ENDPOINT'],\n",
    "    aws_access_key_id=os.environ['S3_DEV_ACCESS_KEY'],\n",
    "    aws_secret_access_key=os.environ['S3_DEV_SECRET_KEY'],\n",
    ")\n",
    "\n",
    "tablenames = []\n",
    "\n",
    "for f in files:\n",
    "    tablename = f.split('/')[-1].split('.')[0]\n",
    "    if tablename=='state_utility_policies':\n",
    "        df = pd.read_csv(bucket.Object(f).get()['Body'],\n",
    "                         dtype={'respondent_id':'int32'},parse_dates=['date_updated'],dayfirst=True)\n",
    "    else:\n",
    "        df = pd.read_csv(bucket.Object(f).get()['Body'], dtype=dtype_dict[tablename])\n",
    "    df.to_parquet('/tmp/{sname}.{tname}.parquet'.format(sname=schemaname, tname=tablename), index=False)\n",
    "    tablenames.append(tablename)\n",
    "    s3.upload_file(\n",
    "        Bucket=os.environ['S3_DEV_BUCKET'],\n",
    "        Key='trino/{sname}/{tname}/{tname}.parquet'.format(sname=schemaname, tname=tablename),\n",
    "        Filename='/tmp/{sname}.{tname}.parquet'.format(sname=schemaname, tname=tablename)\n",
    "    )\n",
    "    \n",
    "    cur.execute('drop table if exists osc_datacommons_dev.rmi.' + tablename)\n",
    "    cur.fetchall()\n",
    "    \n",
    "    schema = generate_table_schema_pairs(df)\n",
    "\n",
    "    tabledef = \"\"\"create table if not exists osc_datacommons_dev.{sname}.{tname}(\n",
    "{schema}\n",
    ") with (\n",
    "    format = 'parquet',\n",
    "    external_location = 's3a://{bucket}/trino/{sname}/{tname}/'\n",
    ")\"\"\".format(schema=schema,bucket=os.environ['S3_DEV_BUCKET'],sname=schemaname,tname=tablename)\n",
    "    print(tabledef)\n",
    "\n",
    "    # tables created externally may not show up immediately in cloud-beaver\n",
    "    cur.execute(tabledef)\n",
    "    cur.fetchall()\n",
    "\n",
    "print('Done!')"
   ]
  },
  {
   "cell_type": "code",
   "execution_count": null,
   "id": "34ce11e2-9e8e-4ac9-b32b-5f694becf46d",
   "metadata": {},
   "outputs": [],
   "source": []
  },
  {
   "cell_type": "code",
   "execution_count": null,
   "id": "d7592b27-baf3-47ca-95c5-558adfba5e68",
   "metadata": {},
   "outputs": [],
   "source": []
  },
  {
   "cell_type": "code",
   "execution_count": null,
   "id": "45390751-1799-4a9e-84d3-47738ecc7418",
   "metadata": {},
   "outputs": [],
   "source": []
  }
 ],
 "metadata": {
  "kernelspec": {
   "display_name": "Python 3",
   "language": "python",
   "name": "python3"
  },
  "language_info": {
   "codemirror_mode": {
    "name": "ipython",
    "version": 3
   },
   "file_extension": ".py",
   "mimetype": "text/x-python",
   "name": "python",
   "nbconvert_exporter": "python",
   "pygments_lexer": "ipython3",
   "version": "3.8.3"
  }
 },
 "nbformat": 4,
 "nbformat_minor": 5
}
