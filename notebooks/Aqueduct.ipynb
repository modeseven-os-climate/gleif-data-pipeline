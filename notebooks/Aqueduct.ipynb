{
 "cells": [
  {
   "cell_type": "markdown",
   "id": "41652f59-1798-4431-90dc-592dd4f64a7f",
   "metadata": {},
   "source": [
    "## Load WRI AqueductFloodTool Data\n",
    "\n",
    "Copyright (C) 2021 OS-Climate\n",
    "\n",
    "Permission is hereby granted, free of charge, to any person obtaining a copy of this software and associated documentation files (the \"Software\"), to deal in the Software without restriction, including without limitation the rights to use, copy, modify, merge, publish, distribute, sublicense, and/or sell copies of the Software, and to permit persons to whom the Software is furnished to do so, subject to the following conditions:\n",
    "\n",
    "The above copyright notice and this permission notice shall be included in all copies or substantial portions of the Software.\n",
    "\n",
    "THE SOFTWARE IS PROVIDED \"AS IS\", WITHOUT WARRANTY OF ANY KIND, EXPRESS OR IMPLIED, INCLUDING BUT NOT LIMITED TO THE WARRANTIES OF MERCHANTABILITY, FITNESS FOR A PARTICULAR PURPOSE AND NONINFRINGEMENT. IN NO EVENT SHALL THE AUTHORS OR COPYRIGHT HOLDERS BE LIABLE FOR ANY CLAIM, DAMAGES OR OTHER LIABILITY, WHETHER IN AN ACTION OF CONTRACT, TORT OR OTHERWISE, ARISING FROM, OUT OF OR IN CONNECTION WITH THE SOFTWARE OR THE USE OR OTHER DEALINGS IN THE SOFTWARE.\n",
    "\n",
    "Contributed by Michael Tiemann (Github: MichaelTiemannOSC)"
   ]
  },
  {
   "cell_type": "markdown",
   "id": "92377eb7-1d1b-4662-ac08-99877153832b",
   "metadata": {},
   "source": [
    "Load Credentials"
   ]
  },
  {
   "cell_type": "code",
   "execution_count": null,
   "id": "ac18bf3b-80d7-4b25-8ae4-9273709a0789",
   "metadata": {},
   "outputs": [],
   "source": [
    "# From the AWS Account page, copy the export scripts from the appropriate role using the \"Command Line or Programmatic Access\" link\n",
    "# Paste the copied text into ~/credentials.env\n",
    "\n",
    "from dotenv import dotenv_values, load_dotenv\n",
    "import os\n",
    "import pathlib\n",
    "\n",
    "dotenv_dir = os.environ.get('CREDENTIAL_DOTENV_DIR', os.environ.get('PWD', '/opt/app-root/src'))\n",
    "dotenv_path = pathlib.Path(dotenv_dir) / 'credentials.env'\n",
    "if os.path.exists(dotenv_path):\n",
    "    load_dotenv(dotenv_path=dotenv_path,override=True)"
   ]
  },
  {
   "cell_type": "markdown",
   "id": "c5877739-a3c7-4f6c-ae92-b2288f511b41",
   "metadata": {},
   "source": [
    "Note this references data hosted on a remote S3 bucket (at WRI)"
   ]
  },
  {
   "cell_type": "code",
   "execution_count": null,
   "id": "3207a36b-b6ec-4694-841b-160a13a8a1cf",
   "metadata": {
    "tags": []
   },
   "outputs": [],
   "source": [
    "import boto3\n",
    "from botocore import UNSIGNED\n",
    "from botocore.config import Config\n",
    "\n",
    "s3_resource = boto3.resource(\n",
    "    service_name=\"s3\",\n",
    "    endpoint_url=os.environ['S3_LANDING_ENDPOINT'],\n",
    "    # aws_access_key_id=os.environ['S3_LANDING_ACCESS_KEY'],\n",
    "    # aws_secret_access_key=os.environ['S3_LANDING_SECRET_KEY'],\n",
    "    config=Config(signature_version=UNSIGNED)\n",
    ")\n",
    "bucket = s3_resource.Bucket('wri-projects')\n",
    "\n",
    "files = []\n",
    "for file in bucket.objects.filter(Prefix='AqueductFloodTool/download/v2'):\n",
    "    if file.key.endswith('tif'):\n",
    "        files.append(file.key)\n",
    "files[0:10]"
   ]
  },
  {
   "cell_type": "markdown",
   "id": "08559f9f-e588-40f6-b842-09908b260183",
   "metadata": {},
   "source": [
    "This section loads a particular innundation map thought interesting.  The main purpose is to have *SOME* data we can put into the trino layer as geospatial data.\n",
    "The resampled data is stored in a notebook-local tif file...but that's not right: we want to put it somewhere into trino (possibly via [tile]DB?)"
   ]
  },
  {
   "cell_type": "code",
   "execution_count": null,
   "id": "633d27cc-73dd-4c85-9c88-1c48c2c64c04",
   "metadata": {},
   "outputs": [],
   "source": [
    "from affine import Affine\n",
    "import rasterio\n",
    "from rasterio.enums import Resampling\n",
    "from rasterio.transform import from_bounds\n",
    "\n",
    "upscale_factor = 0.05\n",
    "fp = bucket.Object('AqueductFloodTool/download/v2/inunriver_rcp8p5_00000NorESM1-M_2030_rp00002.tif').get()['Body']\n",
    "\n",
    "def resample_raster(raster, scale=2):\n",
    "    t = raster.transform\n",
    "\n",
    "    # rescale the metadata\n",
    "    transform = Affine(t.a / scale, t.b, t.c, t.d, t.e / scale, t.f)\n",
    "    height = raster.height * scale\n",
    "    width = raster.width * scale\n",
    "\n",
    "    profile = raster.profile\n",
    "    profile.update(transform=transform, driver='GTiff', height=height, width=width, crs=raster.crs)\n",
    "\n",
    "    data = raster.read( # Note changed order of indexes, arrays are band, row, col order not row, col, band\n",
    "            out_shape=(int(raster.count), int(height), int(width)),\n",
    "            resampling=Resampling.cubic)\n",
    "\n",
    "    return(data)\n",
    "\n",
    "with rasterio.open(fp) as dataset:\n",
    "    data=resample_raster(dataset, upscale_factor)\n",
    "print(\"Resampling done\")\n",
    "\n",
    "arr = data[0,:]\n",
    "transform = from_bounds(-180, -90, 180,90,arr.shape[1],arr.shape[0])\n",
    "new_dataset = rasterio.open('/opt/app-root/src/pr-ND/WRI_data/output.tif', 'w', driver='GTiff',\n",
    "                            height = arr.shape[0], \n",
    "                            width = arr.shape[1],\n",
    "                            count=1, dtype=str(arr.dtype),\n",
    "                            crs=dataset.crs,\n",
    "                            transform=transform)\n",
    "\n",
    "new_dataset.write(arr, 1)\n",
    "new_dataset.close()"
   ]
  },
  {
   "cell_type": "markdown",
   "id": "6e451728-d811-4ce3-9c11-bf03e5ce0feb",
   "metadata": {},
   "source": [
    "Ingest the data onto the S3 Development Bucket"
   ]
  },
  {
   "cell_type": "code",
   "execution_count": null,
   "id": "02b3d6dc-692c-4bc9-97d5-432672b739c4",
   "metadata": {},
   "outputs": [],
   "source": [
    "schemaname = 'wri'\n",
    "tablename = 'resampled_geotif'\n",
    "wri_plants.to_parquet('/tmp/{sname}.{tname}.parquet'.format(sname=schemaname, tname=tablename), index=False)\n",
    "# Create an S3 client\n",
    "s3 = boto3.client(\n",
    "    service_name=\"s3\",\n",
    "    endpoint_url=os.environ['S3_DEV_ENDPOINT'],\n",
    "    aws_access_key_id=os.environ['S3_DEV_ACCESS_KEY'],\n",
    "    aws_secret_access_key=os.environ['S3_DEV_SECRET_KEY'],\n",
    ")\n",
    "s3.upload_file(\n",
    "    Bucket=os.environ['S3_DEV_BUCKET'],\n",
    "    Key='trino/{sname}/{tname}/{tname}.parquet'.format(sname=schemaname, tname=tablename),\n",
    "    Filename='/tmp/{sname}.{tname}.parquet'.format(sname=schemaname, tname=tablename)\n",
    ")"
   ]
  },
  {
   "cell_type": "markdown",
   "id": "dce60fc0-e465-49dd-ad83-0c82aeb6e5da",
   "metadata": {},
   "source": [
    "Build a map and define schema mapping logic for parquet to sql"
   ]
  },
  {
   "cell_type": "code",
   "execution_count": null,
   "id": "d2478a68-55fd-4f0e-8b13-38cef50687c8",
   "metadata": {},
   "outputs": [],
   "source": [
    "_p2smap = {\n",
    "    'object': 'varchar',\n",
    "    'string': 'varchar',\n",
    "    'float32': 'real',\n",
    "    'Float32': 'real',\n",
    "    'float64': 'double',\n",
    "    'Float64': 'double',\n",
    "    'int32': 'integer',\n",
    "    'Int32': 'integer',\n",
    "    'int64': 'bigint',\n",
    "    'Int64': 'bigint',\n",
    "    'category': 'varchar',\n",
    "    'datetime64[ns, UTC]': 'timestamp',\n",
    "    'datetime64[ns]': 'timestamp'\n",
    "}\n",
    "\n",
    "def pandas_type_to_sql(pt):\n",
    "    st = _p2smap.get(pt)\n",
    "    if st is not None:\n",
    "        return st\n",
    "    raise ValueError(\"unexpected pandas column type '{pt}'\".format(pt=pt))\n",
    "\n",
    "# add ability to specify optional dict for specific fields?\n",
    "# if column name is present, use specified value?\n",
    "def generate_table_schema_pairs(df):\n",
    "    ptypes = [str(e) for e in df.dtypes.to_list()]\n",
    "    stypes = [pandas_type_to_sql(e) for e in ptypes]\n",
    "    pz = list(zip(df.columns.to_list(), stypes))\n",
    "    return \",\\n\".join([\"    {n} {t}\".format(n=e[0],t=e[1]) for e in pz])"
   ]
  },
  {
   "cell_type": "code",
   "execution_count": null,
   "id": "7bccd8a0-3ee0-46d5-9bca-0138ab277cac",
   "metadata": {},
   "outputs": [],
   "source": [
    "import trino\n",
    "\n",
    "conn = trino.dbapi.connect(\n",
    "    host=os.environ['TRINO_HOST'],\n",
    "    port=int(os.environ['TRINO_PORT']),\n",
    "    user=os.environ['TRINO_USER'],\n",
    "    http_scheme='https',\n",
    "    auth=trino.auth.JWTAuthentication(os.environ['TRINO_PASSWD']),\n",
    "    verify=True,\n",
    ")\n",
    "cur = conn.cursor()"
   ]
  },
  {
   "cell_type": "code",
   "execution_count": null,
   "id": "8e914817-28e0-4c95-a135-4fddf4948a4d",
   "metadata": {},
   "outputs": [],
   "source": [
    "# Show available schemas to ensure trino connection is set correctly\n",
    "cur.execute('show schemas in osc_datacommons_dev')\n",
    "cur.fetchall()"
   ]
  },
  {
   "cell_type": "code",
   "execution_count": null,
   "id": "f97ca610-38ae-4fdf-b7c6-a67760cc0374",
   "metadata": {},
   "outputs": [],
   "source": [
    "cur.execute('create schema if not exists osc_datacommons_dev.wri')\n",
    "cur.fetchall()"
   ]
  },
  {
   "cell_type": "code",
   "execution_count": null,
   "id": "6fc4112b-eec8-42b7-a6e0-a7a56b6105a5",
   "metadata": {},
   "outputs": [],
   "source": [
    "cur.execute('drop table if exists osc_datacommons_dev.wri.' + tablename)\n",
    "cur.fetchall()"
   ]
  },
  {
   "cell_type": "code",
   "execution_count": null,
   "id": "146adf77-7906-4a41-ad6c-9a3e1b15569c",
   "metadata": {},
   "outputs": [],
   "source": [
    "schema = generate_table_schema_pairs(wri_plants)\n",
    "\n",
    "tabledef = \"\"\"create table if not exists osc_datacommons_dev.{sname}.{tname}(\n",
    "{schema}\n",
    ") with (\n",
    "    format = 'parquet',\n",
    "    external_location = 's3a://{bucket}/trino/{sname}/{tname}/'\n",
    ")\"\"\".format(schema=schema,bucket=os.environ['S3_DEV_BUCKET'],sname=schemaname,tname=tablename)\n",
    "print(tabledef)\n",
    "\n",
    "# tables created externally may not show up immediately in cloud-beaver\n",
    "cur.execute(tabledef)\n",
    "cur.fetchall()"
   ]
  },
  {
   "cell_type": "code",
   "execution_count": null,
   "id": "34ce11e2-9e8e-4ac9-b32b-5f694becf46d",
   "metadata": {},
   "outputs": [],
   "source": []
  },
  {
   "cell_type": "code",
   "execution_count": null,
   "id": "d7592b27-baf3-47ca-95c5-558adfba5e68",
   "metadata": {},
   "outputs": [],
   "source": []
  },
  {
   "cell_type": "code",
   "execution_count": null,
   "id": "45390751-1799-4a9e-84d3-47738ecc7418",
   "metadata": {},
   "outputs": [],
   "source": []
  }
 ],
 "metadata": {
  "kernelspec": {
   "display_name": "Python 3",
   "language": "python",
   "name": "python3"
  },
  "language_info": {
   "codemirror_mode": {
    "name": "ipython",
    "version": 3
   },
   "file_extension": ".py",
   "mimetype": "text/x-python",
   "name": "python",
   "nbconvert_exporter": "python",
   "pygments_lexer": "ipython3",
   "version": "3.8.3"
  }
 },
 "nbformat": 4,
 "nbformat_minor": 5
}
