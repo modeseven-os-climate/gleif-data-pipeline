{
 "cells": [
  {
   "cell_type": "markdown",
   "id": "7effe387-0da9-48dd-97be-f3facb8f99f5",
   "metadata": {},
   "source": [
    "# Load GLEIF Data from public repository on AWS (s3://gleif/)\n",
    "Copyright (C) 2021 OS-Climate\n",
    "\n",
    "Permission is hereby granted, free of charge, to any person obtaining a copy of this software and associated documentation files (the \"Software\"), to deal in the Software without restriction, including without limitation the rights to use, copy, modify, merge, publish, distribute, sublicense, and/or sell copies of the Software, and to permit persons to whom the Software is furnished to do so, subject to the following conditions:\n",
    "\n",
    "The above copyright notice and this permission notice shall be included in all copies or substantial portions of the Software.\n",
    "\n",
    "THE SOFTWARE IS PROVIDED \"AS IS\", WITHOUT WARRANTY OF ANY KIND, EXPRESS OR IMPLIED, INCLUDING BUT NOT LIMITED TO THE WARRANTIES OF MERCHANTABILITY, FITNESS FOR A PARTICULAR PURPOSE AND NONINFRINGEMENT. IN NO EVENT SHALL THE AUTHORS OR COPYRIGHT HOLDERS BE LIABLE FOR ANY CLAIM, DAMAGES OR OTHER LIABILITY, WHETHER IN AN ACTION OF CONTRACT, TORT OR OTHERWISE, ARISING FROM, OUT OF OR IN CONNECTION WITH THE SOFTWARE OR THE USE OR OTHER DEALINGS IN THE SOFTWARE."
   ]
  },
  {
   "cell_type": "code",
   "execution_count": 1,
   "id": "46fa39fa-5b84-4d0d-8848-557825c4de55",
   "metadata": {},
   "outputs": [],
   "source": [
    "# pip install boto3\n",
    "# pip install python-dotenv\n",
    "# pip install trino\n",
    "# pip install pandas"
   ]
  },
  {
   "cell_type": "code",
   "execution_count": 2,
   "id": "43ff88f9-3801-4ca7-be07-2e004d820fe5",
   "metadata": {},
   "outputs": [],
   "source": [
    "from dotenv import dotenv_values, load_dotenv\n",
    "import os\n",
    "import pathlib\n",
    "import boto3\n",
    "from botocore import UNSIGNED\n",
    "from botocore.client import Config\n",
    "import pandas as pd\n",
    "import trino\n",
    "import io"
   ]
  },
  {
   "cell_type": "code",
   "execution_count": 3,
   "id": "3dc251d6-07ed-4863-a8a8-20aae1471b20",
   "metadata": {},
   "outputs": [],
   "source": [
    "# Use unsigned access to public S3 resource for GLEIF bucket\n",
    "s3_resource = boto3.resource(\n",
    "    service_name=\"s3\",\n",
    "    config=Config(signature_version=UNSIGNED),\n",
    ")\n",
    "bucket = s3_resource.Bucket(\"gleif\")"
   ]
  },
  {
   "cell_type": "code",
   "execution_count": 4,
   "id": "392521b9-db2e-4e8f-8523-97a8f4107a55",
   "metadata": {},
   "outputs": [
    {
     "data": {
      "text/plain": [
       "'data/csv/LEI/date=2021-08-27/time=16:00/20210827-1600-gleif-goldencopy-lei2-golden-copy.csv.gz'"
      ]
     },
     "execution_count": 4,
     "metadata": {},
     "output_type": "execute_result"
    }
   ],
   "source": [
    "# Retrieve latest LEI data set\n",
    "LEI_data_sets = []\n",
    "for obj in bucket.objects.filter(Prefix='data/csv/LEI/'):\n",
    "    LEI_data_sets.append(obj.key)\n",
    "LEI_data_sets[len(LEI_data_sets)-1]"
   ]
  },
  {
   "cell_type": "code",
   "execution_count": null,
   "id": "461db0da-144d-411a-8985-6c1084258898",
   "metadata": {},
   "outputs": [],
   "source": [
    "# LEI_data_set_to_ingest = s3_resource.Object(\"gleif\", LEI_data_sets[len(LEI_data_sets)-1])\n",
    "# df = (pd.read_csv(obj['Body'])).convert_dtypes()"
   ]
  },
  {
   "cell_type": "code",
   "execution_count": null,
   "id": "c3b57fb0-6774-4f36-9d4e-c30efddcfa6d",
   "metadata": {},
   "outputs": [],
   "source": []
  }
 ],
 "metadata": {
  "kernelspec": {
   "display_name": "Python 3",
   "language": "python",
   "name": "python3"
  },
  "language_info": {
   "codemirror_mode": {
    "name": "ipython",
    "version": 3
   },
   "file_extension": ".py",
   "mimetype": "text/x-python",
   "name": "python",
   "nbconvert_exporter": "python",
   "pygments_lexer": "ipython3",
   "version": "3.8.3"
  }
 },
 "nbformat": 4,
 "nbformat_minor": 5
}
