{
 "cells": [
  {
   "cell_type": "code",
   "execution_count": null,
   "id": "ee278cd4-28f3-4490-ada1-2412c957cca1",
   "metadata": {},
   "outputs": [],
   "source": [
    "#pip install trino urllib3 pandas"
   ]
  },
  {
   "cell_type": "code",
   "execution_count": null,
   "id": "5ec4c0c6-a6ac-4c4f-bd02-9ac6dad1c94f",
   "metadata": {
    "tags": []
   },
   "outputs": [],
   "source": [
    "# two possible apis to generate a trino connection:\n",
    "import trino\n",
    "# from pyhive import presto\n",
    "\n",
    "# pandas dfs\n",
    "import pandas as pd\n",
    "\n",
    "import urllib3\n",
    "urllib3.disable_warnings()"
   ]
  },
  {
   "cell_type": "code",
   "execution_count": null,
   "id": "53100d78-e1c8-426e-b2f1-cab892ecfce3",
   "metadata": {},
   "outputs": [],
   "source": [
    "from dotenv import dotenv_values, load_dotenv\n",
    "import os\n",
    "import pathlib\n",
    "\n",
    "dotenv_dir = os.environ.get('CREDENTIAL_DOTENV_DIR', os.environ.get('PWD', '/opt/app-root/src'))\n",
    "dotenv_path = pathlib.Path(dotenv_dir) / 'credentials.env'\n",
    "if os.path.exists(dotenv_path):\n",
    "    load_dotenv(dotenv_path=dotenv_path,override=True)"
   ]
  },
  {
   "cell_type": "code",
   "execution_count": null,
   "id": "6b8fee53-c7b0-410e-898e-c6bad39211b8",
   "metadata": {},
   "outputs": [],
   "source": [
    "JWT_TOKEN = os.environ['TRINO_PASSWD']\n",
    "conn = trino.dbapi.connect(\n",
    "    host=os.environ['TRINO_HOST'],\n",
    "    port=int(os.environ['TRINO_PORT']),\n",
    "    user=os.environ['TRINO_USER'],\n",
    "    http_scheme='https',\n",
    "    auth=trino.auth.JWTAuthentication(JWT_TOKEN),\n",
    "    verify=True,\n",
    ")\n",
    "cur = conn.cursor()"
   ]
  },
  {
   "cell_type": "code",
   "execution_count": null,
   "id": "f20bec98-9efc-4e14-83cb-d887f86c8c12",
   "metadata": {},
   "outputs": [],
   "source": [
    "cur.execute('show catalogs')\n",
    "cur.fetchall()"
   ]
  },
  {
   "cell_type": "code",
   "execution_count": null,
   "id": "55e9c16a-1be1-4cb7-b3e2-c3f58b44b0a4",
   "metadata": {},
   "outputs": [],
   "source": [
    "# Show available schemas to ensure trino connection is set correctly\n",
    "cur.execute('show schemas in osc_datacommons_dev')\n",
    "cur.fetchall()"
   ]
  },
  {
   "cell_type": "code",
   "execution_count": null,
   "id": "ceb0b6c5-f3cd-456c-8ace-c573caed9de5",
   "metadata": {},
   "outputs": [],
   "source": [
    "cur.execute('show tables from osc_datacommons_dev.wri_gppd')\n",
    "cur.fetchall()"
   ]
  },
  {
   "cell_type": "code",
   "execution_count": null,
   "id": "f51ef7b2-5886-4f0e-9314-4b0305b86c5f",
   "metadata": {},
   "outputs": [],
   "source": [
    "# CNAME is Catalog Name (osc_datacommons_dev)\n",
    "# SNAME is Schema Name (wri_gppd)\n",
    "# TNAME is Table Name (plants)\n",
    "\n",
    "def trino_to_df(cname, sname, tname):\n",
    "    trino_table = '.'.join([cname, sname, tname])\n",
    "    cur.execute('show columns from ' + trino_table)\n",
    "    columns_df = pd.DataFrame(cur.fetchall()).dropna(axis=1,how='all')\n",
    "    \n",
    "    cur.execute('select * from ' + trino_table)\n",
    "    df = pd.DataFrame(cur.fetchall())\n",
    "    df.columns = columns_df.iloc[:, 0]\n",
    "    return df"
   ]
  },
  {
   "cell_type": "code",
   "execution_count": null,
   "id": "d0a4bd4c-5999-46b4-a4fc-61dade24c3cd",
   "metadata": {},
   "outputs": [],
   "source": [
    "df = trino_to_df('osc_datacommons_dev', 'wri_gppd', 'plants')\n",
    "display(df.info(verbose=True))\n",
    "df.head()"
   ]
  }
 ],
 "metadata": {
  "kernelspec": {
   "display_name": "Python 3",
   "language": "python",
   "name": "python3"
  },
  "language_info": {
   "codemirror_mode": {
    "name": "ipython",
    "version": 3
   },
   "file_extension": ".py",
   "mimetype": "text/x-python",
   "name": "python",
   "nbconvert_exporter": "python",
   "pygments_lexer": "ipython3",
   "version": "3.8.3"
  }
 },
 "nbformat": 4,
 "nbformat_minor": 5
}
