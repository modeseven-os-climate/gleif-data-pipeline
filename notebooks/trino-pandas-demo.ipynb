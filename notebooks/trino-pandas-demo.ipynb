{
 "cells": [
  {
   "cell_type": "markdown",
   "id": "ab47f544-db81-414f-a1c3-e7313056cae3",
   "metadata": {},
   "source": [
    "## Loading package dependencies\n",
    "\n",
    "The `sqlalchemy-trino` package currently requires `sqlalchemy==1.3`.\n",
    "This requirement may be lifted in the future.\n",
    "\n",
    "`%pip install` commands need only be run once per JupyterHub session.\n",
    "If you restart your JupyterHub server, they should be re-installed.\n",
    "\n",
    "Notebook dependencies may be pre-installed on custom notebook images in future iterations."
   ]
  },
  {
   "cell_type": "code",
   "execution_count": 1,
   "id": "ee278cd4-28f3-4490-ada1-2412c957cca1",
   "metadata": {},
   "outputs": [
    {
     "name": "stdout",
     "output_type": "stream",
     "text": [
      "Requirement already satisfied: trino in /opt/app-root/lib/python3.8/site-packages (0.306.0)\n",
      "Requirement already satisfied: python-dotenv in /opt/app-root/lib/python3.8/site-packages (0.19.1)\n",
      "Collecting pandas\n",
      "  Downloading pandas-1.3.3-cp38-cp38-manylinux_2_17_x86_64.manylinux2014_x86_64.whl (11.5 MB)\n",
      "\u001b[K     |████████████████████████████████| 11.5 MB 25.7 MB/s eta 0:00:01\n",
      "\u001b[?25hRequirement already satisfied: requests in /opt/app-root/lib/python3.8/site-packages (from trino) (2.25.1)\n",
      "Requirement already satisfied: pytz>=2017.3 in /opt/app-root/lib/python3.8/site-packages (from pandas) (2021.1)\n",
      "Collecting numpy>=1.17.3\n",
      "  Downloading numpy-1.21.2-cp38-cp38-manylinux_2_12_x86_64.manylinux2010_x86_64.whl (15.8 MB)\n",
      "\u001b[K     |████████████████████████████████| 15.8 MB 58.5 MB/s eta 0:00:01                   | 1.6 MB 58.5 MB/s eta 0:00:01[K     |███████████▍                    | 5.6 MB 58.5 MB/s eta 0:00:01\n",
      "\u001b[?25hRequirement already satisfied: python-dateutil>=2.7.3 in /opt/app-root/lib/python3.8/site-packages (from pandas) (2.8.1)\n",
      "Requirement already satisfied: six>=1.5 in /opt/app-root/lib/python3.8/site-packages (from python-dateutil>=2.7.3->pandas) (1.15.0)\n",
      "Requirement already satisfied: chardet<5,>=3.0.2 in /opt/app-root/lib/python3.8/site-packages (from requests->trino) (4.0.0)\n",
      "Requirement already satisfied: certifi>=2017.4.17 in /opt/app-root/lib/python3.8/site-packages (from requests->trino) (2020.12.5)\n",
      "Requirement already satisfied: urllib3<1.27,>=1.21.1 in /opt/app-root/lib/python3.8/site-packages (from requests->trino) (1.26.4)\n",
      "Requirement already satisfied: idna<3,>=2.5 in /opt/app-root/lib/python3.8/site-packages (from requests->trino) (2.10)\n",
      "Installing collected packages: numpy, pandas\n",
      "Successfully installed numpy-1.21.2 pandas-1.3.3\n",
      "\u001b[33mWARNING: You are using pip version 21.1; however, version 21.3 is available.\n",
      "You should consider upgrading via the '/opt/app-root/bin/python3.8 -m pip install --upgrade pip' command.\u001b[0m\n",
      "Note: you may need to restart the kernel to use updated packages.\n",
      "Requirement already satisfied: sqlalchemy==1.3 in /opt/app-root/lib/python3.8/site-packages (1.3.0)\n",
      "Requirement already satisfied: sqlalchemy-trino in /opt/app-root/lib/python3.8/site-packages (0.4.0)\n",
      "Requirement already satisfied: trino~=0.306 in /opt/app-root/lib/python3.8/site-packages (from sqlalchemy-trino) (0.306.0)\n",
      "Requirement already satisfied: requests in /opt/app-root/lib/python3.8/site-packages (from trino~=0.306->sqlalchemy-trino) (2.25.1)\n",
      "Requirement already satisfied: chardet<5,>=3.0.2 in /opt/app-root/lib/python3.8/site-packages (from requests->trino~=0.306->sqlalchemy-trino) (4.0.0)\n",
      "Requirement already satisfied: urllib3<1.27,>=1.21.1 in /opt/app-root/lib/python3.8/site-packages (from requests->trino~=0.306->sqlalchemy-trino) (1.26.4)\n",
      "Requirement already satisfied: idna<3,>=2.5 in /opt/app-root/lib/python3.8/site-packages (from requests->trino~=0.306->sqlalchemy-trino) (2.10)\n",
      "Requirement already satisfied: certifi>=2017.4.17 in /opt/app-root/lib/python3.8/site-packages (from requests->trino~=0.306->sqlalchemy-trino) (2020.12.5)\n",
      "\u001b[33mWARNING: You are using pip version 21.1; however, version 21.3 is available.\n",
      "You should consider upgrading via the '/opt/app-root/bin/python3.8 -m pip install --upgrade pip' command.\u001b[0m\n",
      "Note: you may need to restart the kernel to use updated packages.\n"
     ]
    }
   ],
   "source": [
    "%pip install trino python-dotenv pandas\n",
    "%pip install --upgrade sqlalchemy==1.3 sqlalchemy-trino"
   ]
  },
  {
   "cell_type": "markdown",
   "id": "402696d7-7bf3-421c-a7d5-ab2abe10ac46",
   "metadata": {
    "tags": []
   },
   "source": [
    "## Load credentials\n",
    "OS-Climate convention is to store credentials using the `dotenv` file `credentials.env`"
   ]
  },
  {
   "cell_type": "code",
   "execution_count": 2,
   "id": "53100d78-e1c8-426e-b2f1-cab892ecfce3",
   "metadata": {},
   "outputs": [],
   "source": [
    "from dotenv import dotenv_values, load_dotenv\n",
    "import os\n",
    "import pathlib\n",
    "\n",
    "dotenv_dir = os.environ.get('CREDENTIAL_DOTENV_DIR', os.environ.get('PWD', '/opt/app-root/src'))\n",
    "dotenv_path = pathlib.Path(dotenv_dir) / 'credentials.env'\n",
    "if os.path.exists(dotenv_path):\n",
    "    load_dotenv(dotenv_path=dotenv_path,override=True)"
   ]
  },
  {
   "cell_type": "markdown",
   "id": "631f583a-58ca-4266-bfcd-32056b91a747",
   "metadata": {},
   "source": [
    "## Connect to trino with sqlalchemy engine\n",
    "\n",
    "The following cell establishes an `sqlalchemy` connection to trino"
   ]
  },
  {
   "cell_type": "code",
   "execution_count": 3,
   "id": "6b8fee53-c7b0-410e-898e-c6bad39211b8",
   "metadata": {},
   "outputs": [
    {
     "name": "stdout",
     "output_type": "stream",
     "text": [
      "connecting with engine Engine(trino://erikerlandson@trino-secure-odh-trino.apps.odh-cl1.apps.os-climate.org:443/)\n"
     ]
    }
   ],
   "source": [
    "import trino\n",
    "from sqlalchemy.engine import create_engine\n",
    "\n",
    "sqlstring = 'trino://{user}@{host}:{port}/'.format(\n",
    "    user = os.environ['TRINO_USER'],\n",
    "    host = os.environ['TRINO_HOST'],\n",
    "    port = os.environ['TRINO_PORT']\n",
    ")\n",
    "sqlargs = {\n",
    "    'auth': trino.auth.JWTAuthentication(os.environ['TRINO_PASSWD']),\n",
    "    'http_scheme': 'https'\n",
    "}\n",
    "engine = create_engine(sqlstring, connect_args = sqlargs)\n",
    "print(\"connecting with engine \" + str(engine))\n",
    "connection = engine.connect()"
   ]
  },
  {
   "cell_type": "markdown",
   "id": "7310a8e5-5e66-4ff9-a0d3-658861114e72",
   "metadata": {},
   "source": [
    "## Load an SQL query into pandas\n",
    "The `pandas` library can read a sql query directly into a DataFrame\n",
    "using an `sqlalchemy` engine, as shown in the following cell.\n",
    "\n",
    "Note the use of `convert_dtypes()` to tell pandas to assess the data types of the columns."
   ]
  },
  {
   "cell_type": "code",
   "execution_count": 4,
   "id": "d69381cf-1815-4cd9-bdfa-17065d36f3ec",
   "metadata": {
    "tags": []
   },
   "outputs": [
    {
     "data": {
      "text/html": [
       "<div>\n",
       "<style scoped>\n",
       "    .dataframe tbody tr th:only-of-type {\n",
       "        vertical-align: middle;\n",
       "    }\n",
       "\n",
       "    .dataframe tbody tr th {\n",
       "        vertical-align: top;\n",
       "    }\n",
       "\n",
       "    .dataframe thead th {\n",
       "        text-align: right;\n",
       "    }\n",
       "</style>\n",
       "<table border=\"1\" class=\"dataframe\">\n",
       "  <thead>\n",
       "    <tr style=\"text-align: right;\">\n",
       "      <th></th>\n",
       "      <th>Catalog</th>\n",
       "    </tr>\n",
       "  </thead>\n",
       "  <tbody>\n",
       "    <tr>\n",
       "      <th>0</th>\n",
       "      <td>jmx</td>\n",
       "    </tr>\n",
       "    <tr>\n",
       "      <th>1</th>\n",
       "      <td>osc_datacommons_dev</td>\n",
       "    </tr>\n",
       "    <tr>\n",
       "      <th>2</th>\n",
       "      <td>osc_datacommons_iceberg_dev</td>\n",
       "    </tr>\n",
       "    <tr>\n",
       "      <th>3</th>\n",
       "      <td>osc_datacommons_prod</td>\n",
       "    </tr>\n",
       "    <tr>\n",
       "      <th>4</th>\n",
       "      <td>system</td>\n",
       "    </tr>\n",
       "  </tbody>\n",
       "</table>\n",
       "</div>"
      ],
      "text/plain": [
       "                       Catalog\n",
       "0                          jmx\n",
       "1          osc_datacommons_dev\n",
       "2  osc_datacommons_iceberg_dev\n",
       "3         osc_datacommons_prod\n",
       "4                       system"
      ]
     },
     "execution_count": 4,
     "metadata": {},
     "output_type": "execute_result"
    }
   ],
   "source": [
    "import pandas as pd\n",
    "df = pd.read_sql(\"show catalogs\", engine) \\\n",
    "       .convert_dtypes()\n",
    "df"
   ]
  },
  {
   "cell_type": "markdown",
   "id": "843c6331-6110-4e17-881e-1735be4c0fd2",
   "metadata": {},
   "source": [
    "## check the column data types\n",
    "\n",
    "You can check the column types returned for your query using the `info` DataFrame method:"
   ]
  },
  {
   "cell_type": "code",
   "execution_count": 5,
   "id": "9bae46b1-b0e7-4647-a658-47d8f58c9e32",
   "metadata": {},
   "outputs": [
    {
     "name": "stdout",
     "output_type": "stream",
     "text": [
      "<class 'pandas.core.frame.DataFrame'>\n",
      "RangeIndex: 5 entries, 0 to 4\n",
      "Data columns (total 1 columns):\n",
      " #   Column   Non-Null Count  Dtype \n",
      "---  ------   --------------  ----- \n",
      " 0   Catalog  5 non-null      string\n",
      "dtypes: string(1)\n",
      "memory usage: 168.0 bytes\n"
     ]
    }
   ],
   "source": [
    "df.info(verbose=True)"
   ]
  },
  {
   "cell_type": "code",
   "execution_count": null,
   "id": "e4347850-3f64-4068-8216-802452ac8785",
   "metadata": {},
   "outputs": [],
   "source": []
  }
 ],
 "metadata": {
  "kernelspec": {
   "display_name": "Python 3",
   "language": "python",
   "name": "python3"
  },
  "language_info": {
   "codemirror_mode": {
    "name": "ipython",
    "version": 3
   },
   "file_extension": ".py",
   "mimetype": "text/x-python",
   "name": "python",
   "nbconvert_exporter": "python",
   "pygments_lexer": "ipython3",
   "version": "3.8.3"
  }
 },
 "nbformat": 4,
 "nbformat_minor": 5
}
